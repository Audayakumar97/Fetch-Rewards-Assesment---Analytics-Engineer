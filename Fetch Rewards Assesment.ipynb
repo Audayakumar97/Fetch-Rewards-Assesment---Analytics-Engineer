{
 "cells": [
  {
   "cell_type": "markdown",
   "id": "ce8796a1",
   "metadata": {},
   "source": [
    "# Q1 : Review existing unstructured data and transform as needed"
   ]
  },
  {
   "cell_type": "markdown",
   "id": "00146a21",
   "metadata": {},
   "source": [
    "### Import Libraries"
   ]
  },
  {
   "cell_type": "code",
   "execution_count": 1,
   "id": "7d1e1022",
   "metadata": {},
   "outputs": [],
   "source": [
    "import pandas as pd"
   ]
  },
  {
   "cell_type": "markdown",
   "id": "07be2ab5",
   "metadata": {},
   "source": [
    "# Brands Data"
   ]
  },
  {
   "cell_type": "code",
   "execution_count": 2,
   "id": "5667b53a",
   "metadata": {
    "scrolled": true
   },
   "outputs": [
    {
     "name": "stdout",
     "output_type": "stream",
     "text": [
      "                                       _id       barcode            category  \\\n",
      "0     {'$oid': '601ac115be37ce2ead437551'}  511111019862              Baking   \n",
      "1     {'$oid': '601c5460be37ce2ead43755f'}  511111519928           Beverages   \n",
      "2     {'$oid': '601ac142be37ce2ead43755d'}  511111819905              Baking   \n",
      "3     {'$oid': '601ac142be37ce2ead43755a'}  511111519874              Baking   \n",
      "4     {'$oid': '601ac142be37ce2ead43755e'}  511111319917      Candy & Sweets   \n",
      "...                                    ...           ...                 ...   \n",
      "1162  {'$oid': '5f77274dbe37ce6b592e90c0'}  511111116752              Baking   \n",
      "1163  {'$oid': '5dc1fca91dda2c0ad7da64ae'}  511111706328  Breakfast & Cereal   \n",
      "1164  {'$oid': '5f494c6e04db711dd8fe87e7'}  511111416173      Candy & Sweets   \n",
      "1165  {'$oid': '5a021611e4b00efe02b02a57'}  511111400608             Grocery   \n",
      "1166  {'$oid': '6026d757be37ce6369301468'}  511111019930              Baking   \n",
      "\n",
      "          categoryCode                                                cpg  \\\n",
      "0               BAKING  {'$id': {'$oid': '601ac114be37ce2ead437550'}, ...   \n",
      "1            BEVERAGES  {'$id': {'$oid': '5332f5fbe4b03c9a25efd0ba'}, ...   \n",
      "2               BAKING  {'$id': {'$oid': '601ac142be37ce2ead437559'}, ...   \n",
      "3               BAKING  {'$id': {'$oid': '601ac142be37ce2ead437559'}, ...   \n",
      "4     CANDY_AND_SWEETS  {'$id': {'$oid': '5332fa12e4b03c9a25efd1e7'}, ...   \n",
      "...                ...                                                ...   \n",
      "1162            BAKING  {'$ref': 'Cogs', '$id': {'$oid': '5f77274dbe37...   \n",
      "1163               NaN  {'$ref': 'Cogs', '$id': {'$oid': '53e10d6368ab...   \n",
      "1164  CANDY_AND_SWEETS  {'$ref': 'Cogs', '$id': {'$oid': '5332fa12e4b0...   \n",
      "1165               NaN  {'$ref': 'Cogs', '$id': {'$oid': '5332f5f6e4b0...   \n",
      "1166            BAKING  {'$id': {'$oid': '6026d757be37ce6369301467'}, ...   \n",
      "\n",
      "                           name  topBrand                      brandCode  \n",
      "0     test brand @1612366101024       0.0                            NaN  \n",
      "1                     Starbucks       0.0                      STARBUCKS  \n",
      "2     test brand @1612366146176       0.0  TEST BRANDCODE @1612366146176  \n",
      "3     test brand @1612366146051       0.0  TEST BRANDCODE @1612366146051  \n",
      "4     test brand @1612366146827       0.0  TEST BRANDCODE @1612366146827  \n",
      "...                         ...       ...                            ...  \n",
      "1162  test brand @1601644365844       NaN                            NaN  \n",
      "1163        Dippin Dots® Cereal       NaN             DIPPIN DOTS CEREAL  \n",
      "1164  test brand @1598639215217       NaN  TEST BRANDCODE @1598639215217  \n",
      "1165          LIPTON TEA Leaves       0.0              LIPTON TEA Leaves  \n",
      "1166  test brand @1613158231643       0.0  TEST BRANDCODE @1613158231644  \n",
      "\n",
      "[1167 rows x 8 columns]\n"
     ]
    }
   ],
   "source": [
    "# The actual Json file path is defined\n",
    "file_path = 'C:/Users/ASUS/Downloads/Fetch/brands.json'\n",
    "\n",
    "# Load the JSON file into a DataFrame\n",
    "brands = pd.read_json(file_path, lines=True)\n",
    "\n",
    "# Display the DataFrame\n",
    "print(brands)\n"
   ]
  },
  {
   "cell_type": "code",
   "execution_count": 3,
   "id": "a2681f62",
   "metadata": {
    "scrolled": true
   },
   "outputs": [
    {
     "data": {
      "text/html": [
       "<div>\n",
       "<style scoped>\n",
       "    .dataframe tbody tr th:only-of-type {\n",
       "        vertical-align: middle;\n",
       "    }\n",
       "\n",
       "    .dataframe tbody tr th {\n",
       "        vertical-align: top;\n",
       "    }\n",
       "\n",
       "    .dataframe thead th {\n",
       "        text-align: right;\n",
       "    }\n",
       "</style>\n",
       "<table border=\"1\" class=\"dataframe\">\n",
       "  <thead>\n",
       "    <tr style=\"text-align: right;\">\n",
       "      <th></th>\n",
       "      <th>_id</th>\n",
       "      <th>barcode</th>\n",
       "      <th>category</th>\n",
       "      <th>categoryCode</th>\n",
       "      <th>name</th>\n",
       "      <th>topBrand</th>\n",
       "      <th>brandCode</th>\n",
       "      <th>cpg_$ref</th>\n",
       "      <th>cpg_$id.$oid</th>\n",
       "    </tr>\n",
       "  </thead>\n",
       "  <tbody>\n",
       "    <tr>\n",
       "      <th>0</th>\n",
       "      <td>601ac115be37ce2ead437551</td>\n",
       "      <td>511111019862</td>\n",
       "      <td>Baking</td>\n",
       "      <td>BAKING</td>\n",
       "      <td>test brand @1612366101024</td>\n",
       "      <td>0.0</td>\n",
       "      <td>NaN</td>\n",
       "      <td>Cogs</td>\n",
       "      <td>601ac114be37ce2ead437550</td>\n",
       "    </tr>\n",
       "    <tr>\n",
       "      <th>1</th>\n",
       "      <td>601c5460be37ce2ead43755f</td>\n",
       "      <td>511111519928</td>\n",
       "      <td>Beverages</td>\n",
       "      <td>BEVERAGES</td>\n",
       "      <td>Starbucks</td>\n",
       "      <td>0.0</td>\n",
       "      <td>STARBUCKS</td>\n",
       "      <td>Cogs</td>\n",
       "      <td>5332f5fbe4b03c9a25efd0ba</td>\n",
       "    </tr>\n",
       "    <tr>\n",
       "      <th>2</th>\n",
       "      <td>601ac142be37ce2ead43755d</td>\n",
       "      <td>511111819905</td>\n",
       "      <td>Baking</td>\n",
       "      <td>BAKING</td>\n",
       "      <td>test brand @1612366146176</td>\n",
       "      <td>0.0</td>\n",
       "      <td>TEST BRANDCODE @1612366146176</td>\n",
       "      <td>Cogs</td>\n",
       "      <td>601ac142be37ce2ead437559</td>\n",
       "    </tr>\n",
       "    <tr>\n",
       "      <th>3</th>\n",
       "      <td>601ac142be37ce2ead43755a</td>\n",
       "      <td>511111519874</td>\n",
       "      <td>Baking</td>\n",
       "      <td>BAKING</td>\n",
       "      <td>test brand @1612366146051</td>\n",
       "      <td>0.0</td>\n",
       "      <td>TEST BRANDCODE @1612366146051</td>\n",
       "      <td>Cogs</td>\n",
       "      <td>601ac142be37ce2ead437559</td>\n",
       "    </tr>\n",
       "    <tr>\n",
       "      <th>4</th>\n",
       "      <td>601ac142be37ce2ead43755e</td>\n",
       "      <td>511111319917</td>\n",
       "      <td>Candy &amp; Sweets</td>\n",
       "      <td>CANDY_AND_SWEETS</td>\n",
       "      <td>test brand @1612366146827</td>\n",
       "      <td>0.0</td>\n",
       "      <td>TEST BRANDCODE @1612366146827</td>\n",
       "      <td>Cogs</td>\n",
       "      <td>5332fa12e4b03c9a25efd1e7</td>\n",
       "    </tr>\n",
       "    <tr>\n",
       "      <th>...</th>\n",
       "      <td>...</td>\n",
       "      <td>...</td>\n",
       "      <td>...</td>\n",
       "      <td>...</td>\n",
       "      <td>...</td>\n",
       "      <td>...</td>\n",
       "      <td>...</td>\n",
       "      <td>...</td>\n",
       "      <td>...</td>\n",
       "    </tr>\n",
       "    <tr>\n",
       "      <th>1162</th>\n",
       "      <td>5f77274dbe37ce6b592e90c0</td>\n",
       "      <td>511111116752</td>\n",
       "      <td>Baking</td>\n",
       "      <td>BAKING</td>\n",
       "      <td>test brand @1601644365844</td>\n",
       "      <td>NaN</td>\n",
       "      <td>NaN</td>\n",
       "      <td>Cogs</td>\n",
       "      <td>5f77274dbe37ce6b592e90bf</td>\n",
       "    </tr>\n",
       "    <tr>\n",
       "      <th>1163</th>\n",
       "      <td>5dc1fca91dda2c0ad7da64ae</td>\n",
       "      <td>511111706328</td>\n",
       "      <td>Breakfast &amp; Cereal</td>\n",
       "      <td>NaN</td>\n",
       "      <td>Dippin Dots® Cereal</td>\n",
       "      <td>NaN</td>\n",
       "      <td>DIPPIN DOTS CEREAL</td>\n",
       "      <td>Cogs</td>\n",
       "      <td>53e10d6368abd3c7065097cc</td>\n",
       "    </tr>\n",
       "    <tr>\n",
       "      <th>1164</th>\n",
       "      <td>5f494c6e04db711dd8fe87e7</td>\n",
       "      <td>511111416173</td>\n",
       "      <td>Candy &amp; Sweets</td>\n",
       "      <td>CANDY_AND_SWEETS</td>\n",
       "      <td>test brand @1598639215217</td>\n",
       "      <td>NaN</td>\n",
       "      <td>TEST BRANDCODE @1598639215217</td>\n",
       "      <td>Cogs</td>\n",
       "      <td>5332fa12e4b03c9a25efd1e7</td>\n",
       "    </tr>\n",
       "    <tr>\n",
       "      <th>1165</th>\n",
       "      <td>5a021611e4b00efe02b02a57</td>\n",
       "      <td>511111400608</td>\n",
       "      <td>Grocery</td>\n",
       "      <td>NaN</td>\n",
       "      <td>LIPTON TEA Leaves</td>\n",
       "      <td>0.0</td>\n",
       "      <td>LIPTON TEA Leaves</td>\n",
       "      <td>Cogs</td>\n",
       "      <td>5332f5f6e4b03c9a25efd0b4</td>\n",
       "    </tr>\n",
       "    <tr>\n",
       "      <th>1166</th>\n",
       "      <td>6026d757be37ce6369301468</td>\n",
       "      <td>511111019930</td>\n",
       "      <td>Baking</td>\n",
       "      <td>BAKING</td>\n",
       "      <td>test brand @1613158231643</td>\n",
       "      <td>0.0</td>\n",
       "      <td>TEST BRANDCODE @1613158231644</td>\n",
       "      <td>Cogs</td>\n",
       "      <td>6026d757be37ce6369301467</td>\n",
       "    </tr>\n",
       "  </tbody>\n",
       "</table>\n",
       "<p>1167 rows × 9 columns</p>\n",
       "</div>"
      ],
      "text/plain": [
       "                           _id       barcode            category  \\\n",
       "0     601ac115be37ce2ead437551  511111019862              Baking   \n",
       "1     601c5460be37ce2ead43755f  511111519928           Beverages   \n",
       "2     601ac142be37ce2ead43755d  511111819905              Baking   \n",
       "3     601ac142be37ce2ead43755a  511111519874              Baking   \n",
       "4     601ac142be37ce2ead43755e  511111319917      Candy & Sweets   \n",
       "...                        ...           ...                 ...   \n",
       "1162  5f77274dbe37ce6b592e90c0  511111116752              Baking   \n",
       "1163  5dc1fca91dda2c0ad7da64ae  511111706328  Breakfast & Cereal   \n",
       "1164  5f494c6e04db711dd8fe87e7  511111416173      Candy & Sweets   \n",
       "1165  5a021611e4b00efe02b02a57  511111400608             Grocery   \n",
       "1166  6026d757be37ce6369301468  511111019930              Baking   \n",
       "\n",
       "          categoryCode                       name  topBrand  \\\n",
       "0               BAKING  test brand @1612366101024       0.0   \n",
       "1            BEVERAGES                  Starbucks       0.0   \n",
       "2               BAKING  test brand @1612366146176       0.0   \n",
       "3               BAKING  test brand @1612366146051       0.0   \n",
       "4     CANDY_AND_SWEETS  test brand @1612366146827       0.0   \n",
       "...                ...                        ...       ...   \n",
       "1162            BAKING  test brand @1601644365844       NaN   \n",
       "1163               NaN        Dippin Dots® Cereal       NaN   \n",
       "1164  CANDY_AND_SWEETS  test brand @1598639215217       NaN   \n",
       "1165               NaN          LIPTON TEA Leaves       0.0   \n",
       "1166            BAKING  test brand @1613158231643       0.0   \n",
       "\n",
       "                          brandCode cpg_$ref              cpg_$id.$oid  \n",
       "0                               NaN     Cogs  601ac114be37ce2ead437550  \n",
       "1                         STARBUCKS     Cogs  5332f5fbe4b03c9a25efd0ba  \n",
       "2     TEST BRANDCODE @1612366146176     Cogs  601ac142be37ce2ead437559  \n",
       "3     TEST BRANDCODE @1612366146051     Cogs  601ac142be37ce2ead437559  \n",
       "4     TEST BRANDCODE @1612366146827     Cogs  5332fa12e4b03c9a25efd1e7  \n",
       "...                             ...      ...                       ...  \n",
       "1162                            NaN     Cogs  5f77274dbe37ce6b592e90bf  \n",
       "1163             DIPPIN DOTS CEREAL     Cogs  53e10d6368abd3c7065097cc  \n",
       "1164  TEST BRANDCODE @1598639215217     Cogs  5332fa12e4b03c9a25efd1e7  \n",
       "1165              LIPTON TEA Leaves     Cogs  5332f5f6e4b03c9a25efd0b4  \n",
       "1166  TEST BRANDCODE @1613158231644     Cogs  6026d757be37ce6369301467  \n",
       "\n",
       "[1167 rows x 9 columns]"
      ]
     },
     "execution_count": 3,
     "metadata": {},
     "output_type": "execute_result"
    }
   ],
   "source": [
    "# Flatten the '_id' column as it is a dictionary containing an Object ID ($oid). \n",
    "#This is typical in data sourced from systems like MongoDB, where each document has a unique identifier stored in this format.\n",
    "brands['_id'] = brands['_id'].apply(lambda x: x['$oid'] if isinstance(x, dict) and '$oid' in x else x)\n",
    "\n",
    "\n",
    "# 'cpg' column is a nested column in the dataframe, hence it needs to be normalized to split those values\n",
    "\n",
    "if 'cpg' in brands.columns:\n",
    "    cpg_normalized = pd.json_normalize(brands['cpg'])\n",
    "\n",
    "    # Add a prefix to all column names in the normalized DataFrame\n",
    "    cpg_normalized = cpg_normalized.add_prefix('cpg_')\n",
    "\n",
    "    # Drop the original 'cpg' column from brands and concatenate the normalized data\n",
    "    brands_final = pd.concat([brands.drop('cpg', axis=1), cpg_normalized], axis=1)\n",
    "\n",
    "brands_final"
   ]
  },
  {
   "cell_type": "markdown",
   "id": "f038ed88",
   "metadata": {},
   "source": [
    "### Missing Values"
   ]
  },
  {
   "cell_type": "code",
   "execution_count": 4,
   "id": "21f00db3",
   "metadata": {},
   "outputs": [
    {
     "name": "stdout",
     "output_type": "stream",
     "text": [
      "_id               0\n",
      "barcode           0\n",
      "category        155\n",
      "categoryCode    650\n",
      "name              0\n",
      "topBrand        612\n",
      "brandCode       234\n",
      "cpg_$ref          0\n",
      "cpg_$id.$oid      0\n",
      "dtype: int64\n"
     ]
    }
   ],
   "source": [
    "# Display the number of missing values in each column\n",
    "print(brands_final.isnull().sum())"
   ]
  },
  {
   "cell_type": "markdown",
   "id": "2144f702",
   "metadata": {},
   "source": [
    "There are significant amount of missing data and has to be treated. Category, category code, brand code can be replaced with mode or unknown. topBrand can be replaced with 0"
   ]
  },
  {
   "cell_type": "markdown",
   "id": "06244743",
   "metadata": {},
   "source": [
    "### Duplicate Rows"
   ]
  },
  {
   "cell_type": "code",
   "execution_count": 5,
   "id": "6b9a44dc",
   "metadata": {},
   "outputs": [
    {
     "name": "stdout",
     "output_type": "stream",
     "text": [
      "Number of duplicate rows: 0\n"
     ]
    }
   ],
   "source": [
    "# Check for duplicate rows\n",
    "duplicate_rows = brands_final.duplicated()\n",
    "print(f\"Number of duplicate rows: {duplicate_rows.sum()}\")"
   ]
  },
  {
   "cell_type": "markdown",
   "id": "f202a673",
   "metadata": {},
   "source": [
    "There are no duplicate rows hence each entry in the dataset is unique"
   ]
  },
  {
   "cell_type": "markdown",
   "id": "1e954e3c",
   "metadata": {},
   "source": [
    "### Nested Data Uniformity"
   ]
  },
  {
   "cell_type": "code",
   "execution_count": 6,
   "id": "390309ba",
   "metadata": {},
   "outputs": [
    {
     "data": {
      "text/plain": [
       "True    1167\n",
       "Name: cpg, dtype: int64"
      ]
     },
     "execution_count": 6,
     "metadata": {},
     "output_type": "execute_result"
    }
   ],
   "source": [
    "# Assuming `cpg` should contain an '$oid' for each entry\n",
    "brands['cpg'].apply(lambda x: isinstance(x, dict) and '$oid' in x['$id'] if isinstance(x, dict) and '$id' in x else False).value_counts()"
   ]
  },
  {
   "cell_type": "markdown",
   "id": "e9815fd1",
   "metadata": {},
   "source": [
    "DataFrame correctly contains a dictionary with an id key, and each id has oid. This consistency in the structure indicates good data integrity for the cpg column, showing that all 1167 entries adhere to the expected format."
   ]
  },
  {
   "cell_type": "markdown",
   "id": "8a00ca40",
   "metadata": {},
   "source": [
    "# Receipts Data"
   ]
  },
  {
   "cell_type": "code",
   "execution_count": 7,
   "id": "64bdfe4f",
   "metadata": {},
   "outputs": [
    {
     "name": "stdout",
     "output_type": "stream",
     "text": [
      "                                       _id  bonusPointsEarned  \\\n",
      "0     {'$oid': '5ff1e1eb0a720f0523000575'}              500.0   \n",
      "1     {'$oid': '5ff1e1bb0a720f052300056b'}              150.0   \n",
      "2     {'$oid': '5ff1e1f10a720f052300057a'}                5.0   \n",
      "3     {'$oid': '5ff1e1ee0a7214ada100056f'}                5.0   \n",
      "4     {'$oid': '5ff1e1d20a7214ada1000561'}                5.0   \n",
      "...                                    ...                ...   \n",
      "1114  {'$oid': '603cc0630a720fde100003e6'}               25.0   \n",
      "1115  {'$oid': '603d0b710a720fde1000042a'}                NaN   \n",
      "1116  {'$oid': '603cf5290a720fde10000413'}                NaN   \n",
      "1117  {'$oid': '603ce7100a7217c72c000405'}               25.0   \n",
      "1118  {'$oid': '603c4fea0a7217c72c000389'}                NaN   \n",
      "\n",
      "                                bonusPointsEarnedReason  \\\n",
      "0     Receipt number 2 completed, bonus point schedu...   \n",
      "1     Receipt number 5 completed, bonus point schedu...   \n",
      "2                            All-receipts receipt bonus   \n",
      "3                            All-receipts receipt bonus   \n",
      "4                            All-receipts receipt bonus   \n",
      "...                                                 ...   \n",
      "1114                        COMPLETE_NONPARTNER_RECEIPT   \n",
      "1115                                                NaN   \n",
      "1116                                                NaN   \n",
      "1117                        COMPLETE_NONPARTNER_RECEIPT   \n",
      "1118                                                NaN   \n",
      "\n",
      "                    createDate               dateScanned  \\\n",
      "0     {'$date': 1609687531000}  {'$date': 1609687531000}   \n",
      "1     {'$date': 1609687483000}  {'$date': 1609687483000}   \n",
      "2     {'$date': 1609687537000}  {'$date': 1609687537000}   \n",
      "3     {'$date': 1609687534000}  {'$date': 1609687534000}   \n",
      "4     {'$date': 1609687506000}  {'$date': 1609687506000}   \n",
      "...                        ...                       ...   \n",
      "1114  {'$date': 1614594147000}  {'$date': 1614594147000}   \n",
      "1115  {'$date': 1614613361873}  {'$date': 1614613361873}   \n",
      "1116  {'$date': 1614607657664}  {'$date': 1614607657664}   \n",
      "1117  {'$date': 1614604048000}  {'$date': 1614604048000}   \n",
      "1118  {'$date': 1614565354962}  {'$date': 1614565354962}   \n",
      "\n",
      "                  finishedDate                modifyDate  \\\n",
      "0     {'$date': 1609687531000}  {'$date': 1609687536000}   \n",
      "1     {'$date': 1609687483000}  {'$date': 1609687488000}   \n",
      "2                          NaN  {'$date': 1609687542000}   \n",
      "3     {'$date': 1609687534000}  {'$date': 1609687539000}   \n",
      "4     {'$date': 1609687511000}  {'$date': 1609687511000}   \n",
      "...                        ...                       ...   \n",
      "1114                       NaN  {'$date': 1614594148000}   \n",
      "1115                       NaN  {'$date': 1614613361873}   \n",
      "1116                       NaN  {'$date': 1614607657664}   \n",
      "1117                       NaN  {'$date': 1614604049000}   \n",
      "1118                       NaN  {'$date': 1614565354962}   \n",
      "\n",
      "             pointsAwardedDate  pointsEarned              purchaseDate  \\\n",
      "0     {'$date': 1609687531000}         500.0  {'$date': 1609632000000}   \n",
      "1     {'$date': 1609687483000}         150.0  {'$date': 1609601083000}   \n",
      "2                          NaN           5.0  {'$date': 1609632000000}   \n",
      "3     {'$date': 1609687534000}           5.0  {'$date': 1609632000000}   \n",
      "4     {'$date': 1609687506000}           5.0  {'$date': 1609601106000}   \n",
      "...                        ...           ...                       ...   \n",
      "1114                       NaN          25.0  {'$date': 1597622400000}   \n",
      "1115                       NaN           NaN                       NaN   \n",
      "1116                       NaN           NaN                       NaN   \n",
      "1117                       NaN          25.0  {'$date': 1597622400000}   \n",
      "1118                       NaN           NaN                       NaN   \n",
      "\n",
      "      purchasedItemCount                             rewardsReceiptItemList  \\\n",
      "0                    5.0  [{'barcode': '4011', 'description': 'ITEM NOT ...   \n",
      "1                    2.0  [{'barcode': '4011', 'description': 'ITEM NOT ...   \n",
      "2                    1.0  [{'needsFetchReview': False, 'partnerItemId': ...   \n",
      "3                    4.0  [{'barcode': '4011', 'description': 'ITEM NOT ...   \n",
      "4                    2.0  [{'barcode': '4011', 'description': 'ITEM NOT ...   \n",
      "...                  ...                                                ...   \n",
      "1114                 2.0  [{'barcode': 'B076FJ92M4', 'description': 'mue...   \n",
      "1115                 NaN                                                NaN   \n",
      "1116                 NaN                                                NaN   \n",
      "1117                 2.0  [{'barcode': 'B076FJ92M4', 'description': 'mue...   \n",
      "1118                 NaN                                                NaN   \n",
      "\n",
      "     rewardsReceiptStatus  totalSpent                    userId  \n",
      "0                FINISHED       26.00  5ff1e1eacfcf6c399c274ae6  \n",
      "1                FINISHED       11.00  5ff1e194b6a9d73a3a9f1052  \n",
      "2                REJECTED       10.00  5ff1e1f1cfcf6c399c274b0b  \n",
      "3                FINISHED       28.00  5ff1e1eacfcf6c399c274ae6  \n",
      "4                FINISHED        1.00  5ff1e194b6a9d73a3a9f1052  \n",
      "...                   ...         ...                       ...  \n",
      "1114             REJECTED       34.96  5fc961c3b8cfca11a077dd33  \n",
      "1115            SUBMITTED         NaN  5fc961c3b8cfca11a077dd33  \n",
      "1116            SUBMITTED         NaN  5fc961c3b8cfca11a077dd33  \n",
      "1117             REJECTED       34.96  5fc961c3b8cfca11a077dd33  \n",
      "1118            SUBMITTED         NaN  5fc961c3b8cfca11a077dd33  \n",
      "\n",
      "[1119 rows x 15 columns]\n"
     ]
    }
   ],
   "source": [
    "# The actual Json file path is defined\n",
    "file_path = 'C:/Users/ASUS/Downloads/Fetch/receipts.json'\n",
    "\n",
    "# Load the JSON file into a DataFrame\n",
    "receipts = pd.read_json(file_path, lines=True)\n",
    "\n",
    "# Display the DataFrame\n",
    "print(receipts)"
   ]
  },
  {
   "cell_type": "code",
   "execution_count": 8,
   "id": "78334e48",
   "metadata": {
    "scrolled": true
   },
   "outputs": [
    {
     "data": {
      "text/html": [
       "<div>\n",
       "<style scoped>\n",
       "    .dataframe tbody tr th:only-of-type {\n",
       "        vertical-align: middle;\n",
       "    }\n",
       "\n",
       "    .dataframe tbody tr th {\n",
       "        vertical-align: top;\n",
       "    }\n",
       "\n",
       "    .dataframe thead th {\n",
       "        text-align: right;\n",
       "    }\n",
       "</style>\n",
       "<table border=\"1\" class=\"dataframe\">\n",
       "  <thead>\n",
       "    <tr style=\"text-align: right;\">\n",
       "      <th></th>\n",
       "      <th>_id</th>\n",
       "      <th>bonusPointsEarned</th>\n",
       "      <th>bonusPointsEarnedReason</th>\n",
       "      <th>createDate</th>\n",
       "      <th>dateScanned</th>\n",
       "      <th>finishedDate</th>\n",
       "      <th>modifyDate</th>\n",
       "      <th>pointsAwardedDate</th>\n",
       "      <th>pointsEarned</th>\n",
       "      <th>purchaseDate</th>\n",
       "      <th>...</th>\n",
       "      <th>rewardsReceiptItemList_itemNumber</th>\n",
       "      <th>rewardsReceiptItemList_originalMetaBriteQuantityPurchased</th>\n",
       "      <th>rewardsReceiptItemList_pointsEarned</th>\n",
       "      <th>rewardsReceiptItemList_targetPrice</th>\n",
       "      <th>rewardsReceiptItemList_competitiveProduct</th>\n",
       "      <th>rewardsReceiptItemList_originalFinalPrice</th>\n",
       "      <th>rewardsReceiptItemList_originalMetaBriteItemPrice</th>\n",
       "      <th>rewardsReceiptItemList_deleted</th>\n",
       "      <th>rewardsReceiptItemList_priceAfterCoupon</th>\n",
       "      <th>rewardsReceiptItemList_metabriteCampaignId</th>\n",
       "    </tr>\n",
       "  </thead>\n",
       "  <tbody>\n",
       "    <tr>\n",
       "      <th>0</th>\n",
       "      <td>5ff1e1eb0a720f0523000575</td>\n",
       "      <td>500.0</td>\n",
       "      <td>Receipt number 2 completed, bonus point schedu...</td>\n",
       "      <td>2021-01-03 15:25:31.000</td>\n",
       "      <td>2021-01-03 15:25:31.000</td>\n",
       "      <td>2021-01-03 15:25:31</td>\n",
       "      <td>2021-01-03 15:25:36.000</td>\n",
       "      <td>2021-01-03 15:25:31</td>\n",
       "      <td>500.0</td>\n",
       "      <td>2021-01-03 00:00:00</td>\n",
       "      <td>...</td>\n",
       "      <td>NaN</td>\n",
       "      <td>NaN</td>\n",
       "      <td>NaN</td>\n",
       "      <td>NaN</td>\n",
       "      <td>NaN</td>\n",
       "      <td>NaN</td>\n",
       "      <td>NaN</td>\n",
       "      <td>NaN</td>\n",
       "      <td>NaN</td>\n",
       "      <td>NaN</td>\n",
       "    </tr>\n",
       "    <tr>\n",
       "      <th>1</th>\n",
       "      <td>5ff1e1bb0a720f052300056b</td>\n",
       "      <td>150.0</td>\n",
       "      <td>Receipt number 5 completed, bonus point schedu...</td>\n",
       "      <td>2021-01-03 15:24:43.000</td>\n",
       "      <td>2021-01-03 15:24:43.000</td>\n",
       "      <td>2021-01-03 15:24:43</td>\n",
       "      <td>2021-01-03 15:24:48.000</td>\n",
       "      <td>2021-01-03 15:24:43</td>\n",
       "      <td>150.0</td>\n",
       "      <td>2021-01-02 15:24:43</td>\n",
       "      <td>...</td>\n",
       "      <td>NaN</td>\n",
       "      <td>NaN</td>\n",
       "      <td>NaN</td>\n",
       "      <td>NaN</td>\n",
       "      <td>NaN</td>\n",
       "      <td>NaN</td>\n",
       "      <td>NaN</td>\n",
       "      <td>NaN</td>\n",
       "      <td>NaN</td>\n",
       "      <td>NaN</td>\n",
       "    </tr>\n",
       "    <tr>\n",
       "      <th>2</th>\n",
       "      <td>5ff1e1bb0a720f052300056b</td>\n",
       "      <td>150.0</td>\n",
       "      <td>Receipt number 5 completed, bonus point schedu...</td>\n",
       "      <td>2021-01-03 15:24:43.000</td>\n",
       "      <td>2021-01-03 15:24:43.000</td>\n",
       "      <td>2021-01-03 15:24:43</td>\n",
       "      <td>2021-01-03 15:24:48.000</td>\n",
       "      <td>2021-01-03 15:24:43</td>\n",
       "      <td>150.0</td>\n",
       "      <td>2021-01-02 15:24:43</td>\n",
       "      <td>...</td>\n",
       "      <td>NaN</td>\n",
       "      <td>NaN</td>\n",
       "      <td>NaN</td>\n",
       "      <td>NaN</td>\n",
       "      <td>NaN</td>\n",
       "      <td>NaN</td>\n",
       "      <td>NaN</td>\n",
       "      <td>NaN</td>\n",
       "      <td>NaN</td>\n",
       "      <td>NaN</td>\n",
       "    </tr>\n",
       "    <tr>\n",
       "      <th>3</th>\n",
       "      <td>5ff1e1f10a720f052300057a</td>\n",
       "      <td>5.0</td>\n",
       "      <td>All-receipts receipt bonus</td>\n",
       "      <td>2021-01-03 15:25:37.000</td>\n",
       "      <td>2021-01-03 15:25:37.000</td>\n",
       "      <td>NaT</td>\n",
       "      <td>2021-01-03 15:25:42.000</td>\n",
       "      <td>NaT</td>\n",
       "      <td>5.0</td>\n",
       "      <td>2021-01-03 00:00:00</td>\n",
       "      <td>...</td>\n",
       "      <td>NaN</td>\n",
       "      <td>NaN</td>\n",
       "      <td>NaN</td>\n",
       "      <td>NaN</td>\n",
       "      <td>NaN</td>\n",
       "      <td>NaN</td>\n",
       "      <td>NaN</td>\n",
       "      <td>NaN</td>\n",
       "      <td>NaN</td>\n",
       "      <td>NaN</td>\n",
       "    </tr>\n",
       "    <tr>\n",
       "      <th>4</th>\n",
       "      <td>5ff1e1ee0a7214ada100056f</td>\n",
       "      <td>5.0</td>\n",
       "      <td>All-receipts receipt bonus</td>\n",
       "      <td>2021-01-03 15:25:34.000</td>\n",
       "      <td>2021-01-03 15:25:34.000</td>\n",
       "      <td>2021-01-03 15:25:34</td>\n",
       "      <td>2021-01-03 15:25:39.000</td>\n",
       "      <td>2021-01-03 15:25:34</td>\n",
       "      <td>5.0</td>\n",
       "      <td>2021-01-03 00:00:00</td>\n",
       "      <td>...</td>\n",
       "      <td>NaN</td>\n",
       "      <td>NaN</td>\n",
       "      <td>NaN</td>\n",
       "      <td>NaN</td>\n",
       "      <td>NaN</td>\n",
       "      <td>NaN</td>\n",
       "      <td>NaN</td>\n",
       "      <td>NaN</td>\n",
       "      <td>NaN</td>\n",
       "      <td>NaN</td>\n",
       "    </tr>\n",
       "    <tr>\n",
       "      <th>...</th>\n",
       "      <td>...</td>\n",
       "      <td>...</td>\n",
       "      <td>...</td>\n",
       "      <td>...</td>\n",
       "      <td>...</td>\n",
       "      <td>...</td>\n",
       "      <td>...</td>\n",
       "      <td>...</td>\n",
       "      <td>...</td>\n",
       "      <td>...</td>\n",
       "      <td>...</td>\n",
       "      <td>...</td>\n",
       "      <td>...</td>\n",
       "      <td>...</td>\n",
       "      <td>...</td>\n",
       "      <td>...</td>\n",
       "      <td>...</td>\n",
       "      <td>...</td>\n",
       "      <td>...</td>\n",
       "      <td>...</td>\n",
       "      <td>...</td>\n",
       "    </tr>\n",
       "    <tr>\n",
       "      <th>7376</th>\n",
       "      <td>603d0b710a720fde1000042a</td>\n",
       "      <td>NaN</td>\n",
       "      <td>NaN</td>\n",
       "      <td>2021-03-01 15:42:41.873</td>\n",
       "      <td>2021-03-01 15:42:41.873</td>\n",
       "      <td>NaT</td>\n",
       "      <td>2021-03-01 15:42:41.873</td>\n",
       "      <td>NaT</td>\n",
       "      <td>NaN</td>\n",
       "      <td>NaT</td>\n",
       "      <td>...</td>\n",
       "      <td>NaN</td>\n",
       "      <td>NaN</td>\n",
       "      <td>NaN</td>\n",
       "      <td>NaN</td>\n",
       "      <td>NaN</td>\n",
       "      <td>NaN</td>\n",
       "      <td>NaN</td>\n",
       "      <td>NaN</td>\n",
       "      <td>NaN</td>\n",
       "      <td>NaN</td>\n",
       "    </tr>\n",
       "    <tr>\n",
       "      <th>7377</th>\n",
       "      <td>603cf5290a720fde10000413</td>\n",
       "      <td>NaN</td>\n",
       "      <td>NaN</td>\n",
       "      <td>2021-03-01 14:07:37.664</td>\n",
       "      <td>2021-03-01 14:07:37.664</td>\n",
       "      <td>NaT</td>\n",
       "      <td>2021-03-01 14:07:37.664</td>\n",
       "      <td>NaT</td>\n",
       "      <td>NaN</td>\n",
       "      <td>NaT</td>\n",
       "      <td>...</td>\n",
       "      <td>NaN</td>\n",
       "      <td>NaN</td>\n",
       "      <td>NaN</td>\n",
       "      <td>NaN</td>\n",
       "      <td>NaN</td>\n",
       "      <td>NaN</td>\n",
       "      <td>NaN</td>\n",
       "      <td>NaN</td>\n",
       "      <td>NaN</td>\n",
       "      <td>NaN</td>\n",
       "    </tr>\n",
       "    <tr>\n",
       "      <th>7378</th>\n",
       "      <td>603ce7100a7217c72c000405</td>\n",
       "      <td>25.0</td>\n",
       "      <td>COMPLETE_NONPARTNER_RECEIPT</td>\n",
       "      <td>2021-03-01 13:07:28.000</td>\n",
       "      <td>2021-03-01 13:07:28.000</td>\n",
       "      <td>NaT</td>\n",
       "      <td>2021-03-01 13:07:29.000</td>\n",
       "      <td>NaT</td>\n",
       "      <td>25.0</td>\n",
       "      <td>2020-08-17 00:00:00</td>\n",
       "      <td>...</td>\n",
       "      <td>NaN</td>\n",
       "      <td>NaN</td>\n",
       "      <td>NaN</td>\n",
       "      <td>NaN</td>\n",
       "      <td>NaN</td>\n",
       "      <td>NaN</td>\n",
       "      <td>NaN</td>\n",
       "      <td>NaN</td>\n",
       "      <td>NaN</td>\n",
       "      <td>NaN</td>\n",
       "    </tr>\n",
       "    <tr>\n",
       "      <th>7379</th>\n",
       "      <td>603ce7100a7217c72c000405</td>\n",
       "      <td>25.0</td>\n",
       "      <td>COMPLETE_NONPARTNER_RECEIPT</td>\n",
       "      <td>2021-03-01 13:07:28.000</td>\n",
       "      <td>2021-03-01 13:07:28.000</td>\n",
       "      <td>NaT</td>\n",
       "      <td>2021-03-01 13:07:29.000</td>\n",
       "      <td>NaT</td>\n",
       "      <td>25.0</td>\n",
       "      <td>2020-08-17 00:00:00</td>\n",
       "      <td>...</td>\n",
       "      <td>NaN</td>\n",
       "      <td>NaN</td>\n",
       "      <td>NaN</td>\n",
       "      <td>NaN</td>\n",
       "      <td>NaN</td>\n",
       "      <td>NaN</td>\n",
       "      <td>NaN</td>\n",
       "      <td>NaN</td>\n",
       "      <td>NaN</td>\n",
       "      <td>NaN</td>\n",
       "    </tr>\n",
       "    <tr>\n",
       "      <th>7380</th>\n",
       "      <td>603c4fea0a7217c72c000389</td>\n",
       "      <td>NaN</td>\n",
       "      <td>NaN</td>\n",
       "      <td>2021-03-01 02:22:34.962</td>\n",
       "      <td>2021-03-01 02:22:34.962</td>\n",
       "      <td>NaT</td>\n",
       "      <td>2021-03-01 02:22:34.962</td>\n",
       "      <td>NaT</td>\n",
       "      <td>NaN</td>\n",
       "      <td>NaT</td>\n",
       "      <td>...</td>\n",
       "      <td>NaN</td>\n",
       "      <td>NaN</td>\n",
       "      <td>NaN</td>\n",
       "      <td>NaN</td>\n",
       "      <td>NaN</td>\n",
       "      <td>NaN</td>\n",
       "      <td>NaN</td>\n",
       "      <td>NaN</td>\n",
       "      <td>NaN</td>\n",
       "      <td>NaN</td>\n",
       "    </tr>\n",
       "  </tbody>\n",
       "</table>\n",
       "<p>7381 rows × 48 columns</p>\n",
       "</div>"
      ],
      "text/plain": [
       "                           _id  bonusPointsEarned  \\\n",
       "0     5ff1e1eb0a720f0523000575              500.0   \n",
       "1     5ff1e1bb0a720f052300056b              150.0   \n",
       "2     5ff1e1bb0a720f052300056b              150.0   \n",
       "3     5ff1e1f10a720f052300057a                5.0   \n",
       "4     5ff1e1ee0a7214ada100056f                5.0   \n",
       "...                        ...                ...   \n",
       "7376  603d0b710a720fde1000042a                NaN   \n",
       "7377  603cf5290a720fde10000413                NaN   \n",
       "7378  603ce7100a7217c72c000405               25.0   \n",
       "7379  603ce7100a7217c72c000405               25.0   \n",
       "7380  603c4fea0a7217c72c000389                NaN   \n",
       "\n",
       "                                bonusPointsEarnedReason  \\\n",
       "0     Receipt number 2 completed, bonus point schedu...   \n",
       "1     Receipt number 5 completed, bonus point schedu...   \n",
       "2     Receipt number 5 completed, bonus point schedu...   \n",
       "3                            All-receipts receipt bonus   \n",
       "4                            All-receipts receipt bonus   \n",
       "...                                                 ...   \n",
       "7376                                                NaN   \n",
       "7377                                                NaN   \n",
       "7378                        COMPLETE_NONPARTNER_RECEIPT   \n",
       "7379                        COMPLETE_NONPARTNER_RECEIPT   \n",
       "7380                                                NaN   \n",
       "\n",
       "                  createDate             dateScanned        finishedDate  \\\n",
       "0    2021-01-03 15:25:31.000 2021-01-03 15:25:31.000 2021-01-03 15:25:31   \n",
       "1    2021-01-03 15:24:43.000 2021-01-03 15:24:43.000 2021-01-03 15:24:43   \n",
       "2    2021-01-03 15:24:43.000 2021-01-03 15:24:43.000 2021-01-03 15:24:43   \n",
       "3    2021-01-03 15:25:37.000 2021-01-03 15:25:37.000                 NaT   \n",
       "4    2021-01-03 15:25:34.000 2021-01-03 15:25:34.000 2021-01-03 15:25:34   \n",
       "...                      ...                     ...                 ...   \n",
       "7376 2021-03-01 15:42:41.873 2021-03-01 15:42:41.873                 NaT   \n",
       "7377 2021-03-01 14:07:37.664 2021-03-01 14:07:37.664                 NaT   \n",
       "7378 2021-03-01 13:07:28.000 2021-03-01 13:07:28.000                 NaT   \n",
       "7379 2021-03-01 13:07:28.000 2021-03-01 13:07:28.000                 NaT   \n",
       "7380 2021-03-01 02:22:34.962 2021-03-01 02:22:34.962                 NaT   \n",
       "\n",
       "                  modifyDate   pointsAwardedDate  pointsEarned  \\\n",
       "0    2021-01-03 15:25:36.000 2021-01-03 15:25:31         500.0   \n",
       "1    2021-01-03 15:24:48.000 2021-01-03 15:24:43         150.0   \n",
       "2    2021-01-03 15:24:48.000 2021-01-03 15:24:43         150.0   \n",
       "3    2021-01-03 15:25:42.000                 NaT           5.0   \n",
       "4    2021-01-03 15:25:39.000 2021-01-03 15:25:34           5.0   \n",
       "...                      ...                 ...           ...   \n",
       "7376 2021-03-01 15:42:41.873                 NaT           NaN   \n",
       "7377 2021-03-01 14:07:37.664                 NaT           NaN   \n",
       "7378 2021-03-01 13:07:29.000                 NaT          25.0   \n",
       "7379 2021-03-01 13:07:29.000                 NaT          25.0   \n",
       "7380 2021-03-01 02:22:34.962                 NaT           NaN   \n",
       "\n",
       "            purchaseDate  ...  rewardsReceiptItemList_itemNumber  \\\n",
       "0    2021-01-03 00:00:00  ...                                NaN   \n",
       "1    2021-01-02 15:24:43  ...                                NaN   \n",
       "2    2021-01-02 15:24:43  ...                                NaN   \n",
       "3    2021-01-03 00:00:00  ...                                NaN   \n",
       "4    2021-01-03 00:00:00  ...                                NaN   \n",
       "...                  ...  ...                                ...   \n",
       "7376                 NaT  ...                                NaN   \n",
       "7377                 NaT  ...                                NaN   \n",
       "7378 2020-08-17 00:00:00  ...                                NaN   \n",
       "7379 2020-08-17 00:00:00  ...                                NaN   \n",
       "7380                 NaT  ...                                NaN   \n",
       "\n",
       "     rewardsReceiptItemList_originalMetaBriteQuantityPurchased  \\\n",
       "0                                                   NaN          \n",
       "1                                                   NaN          \n",
       "2                                                   NaN          \n",
       "3                                                   NaN          \n",
       "4                                                   NaN          \n",
       "...                                                 ...          \n",
       "7376                                                NaN          \n",
       "7377                                                NaN          \n",
       "7378                                                NaN          \n",
       "7379                                                NaN          \n",
       "7380                                                NaN          \n",
       "\n",
       "      rewardsReceiptItemList_pointsEarned rewardsReceiptItemList_targetPrice  \\\n",
       "0                                     NaN                                NaN   \n",
       "1                                     NaN                                NaN   \n",
       "2                                     NaN                                NaN   \n",
       "3                                     NaN                                NaN   \n",
       "4                                     NaN                                NaN   \n",
       "...                                   ...                                ...   \n",
       "7376                                  NaN                                NaN   \n",
       "7377                                  NaN                                NaN   \n",
       "7378                                  NaN                                NaN   \n",
       "7379                                  NaN                                NaN   \n",
       "7380                                  NaN                                NaN   \n",
       "\n",
       "     rewardsReceiptItemList_competitiveProduct  \\\n",
       "0                                          NaN   \n",
       "1                                          NaN   \n",
       "2                                          NaN   \n",
       "3                                          NaN   \n",
       "4                                          NaN   \n",
       "...                                        ...   \n",
       "7376                                       NaN   \n",
       "7377                                       NaN   \n",
       "7378                                       NaN   \n",
       "7379                                       NaN   \n",
       "7380                                       NaN   \n",
       "\n",
       "     rewardsReceiptItemList_originalFinalPrice  \\\n",
       "0                                          NaN   \n",
       "1                                          NaN   \n",
       "2                                          NaN   \n",
       "3                                          NaN   \n",
       "4                                          NaN   \n",
       "...                                        ...   \n",
       "7376                                       NaN   \n",
       "7377                                       NaN   \n",
       "7378                                       NaN   \n",
       "7379                                       NaN   \n",
       "7380                                       NaN   \n",
       "\n",
       "     rewardsReceiptItemList_originalMetaBriteItemPrice  \\\n",
       "0                                                  NaN   \n",
       "1                                                  NaN   \n",
       "2                                                  NaN   \n",
       "3                                                  NaN   \n",
       "4                                                  NaN   \n",
       "...                                                ...   \n",
       "7376                                               NaN   \n",
       "7377                                               NaN   \n",
       "7378                                               NaN   \n",
       "7379                                               NaN   \n",
       "7380                                               NaN   \n",
       "\n",
       "     rewardsReceiptItemList_deleted rewardsReceiptItemList_priceAfterCoupon  \\\n",
       "0                               NaN                                     NaN   \n",
       "1                               NaN                                     NaN   \n",
       "2                               NaN                                     NaN   \n",
       "3                               NaN                                     NaN   \n",
       "4                               NaN                                     NaN   \n",
       "...                             ...                                     ...   \n",
       "7376                            NaN                                     NaN   \n",
       "7377                            NaN                                     NaN   \n",
       "7378                            NaN                                     NaN   \n",
       "7379                            NaN                                     NaN   \n",
       "7380                            NaN                                     NaN   \n",
       "\n",
       "     rewardsReceiptItemList_metabriteCampaignId  \n",
       "0                                           NaN  \n",
       "1                                           NaN  \n",
       "2                                           NaN  \n",
       "3                                           NaN  \n",
       "4                                           NaN  \n",
       "...                                         ...  \n",
       "7376                                        NaN  \n",
       "7377                                        NaN  \n",
       "7378                                        NaN  \n",
       "7379                                        NaN  \n",
       "7380                                        NaN  \n",
       "\n",
       "[7381 rows x 48 columns]"
      ]
     },
     "execution_count": 8,
     "metadata": {},
     "output_type": "execute_result"
    }
   ],
   "source": [
    "# Flatten the '_id' column\n",
    "receipts['_id'] = receipts['_id'].apply(lambda x: x['$oid'] if isinstance(x, dict) and '$oid' in x else x)\n",
    "\n",
    "# Function to convert nested date fields from Unix timestamp to datetime\n",
    "def convert_dates(data):\n",
    "    if isinstance(data, dict) and '$date' in data:\n",
    "        return pd.to_datetime(data['$date'], unit='ms')\n",
    "    return data\n",
    "\n",
    "# Convert all date fields\n",
    "date_fields = ['createDate', 'dateScanned', 'finishedDate', 'modifyDate', 'pointsAwardedDate', 'purchaseDate']\n",
    "for field in date_fields:\n",
    "    receipts[field] = receipts[field].apply(convert_dates)\n",
    "\n",
    "# Normalize and join 'rewardsReceiptItemList'\n",
    "if 'rewardsReceiptItemList' in receipts.columns:\n",
    "    # Explode the 'rewardsReceiptItemList' to get one item per row\n",
    "    exploded_items = receipts.explode('rewardsReceiptItemList')\n",
    "    \n",
    "    # Normalize the exploded items. Ensure to handle nulls if present to avoid errors.\n",
    "    normalized_items = pd.json_normalize(exploded_items['rewardsReceiptItemList'].dropna())\n",
    "                                    \n",
    "    # Add a prefix to each column name in the normalized DataFrame\n",
    "    normalized_items = normalized_items.add_prefix('rewardsReceiptItemList_')\n",
    "\n",
    "    # Join exploded and normalized items with the main DataFrame\n",
    "    receipts_expanded = exploded_items.drop('rewardsReceiptItemList', axis=1).reset_index(drop=True)\n",
    "    receipts_final = pd.concat([receipts_expanded, normalized_items], axis=1)\n",
    "\n",
    "# Display the modified DataFrame to check results\n",
    "receipts_final"
   ]
  },
  {
   "cell_type": "markdown",
   "id": "2ddd6ef9",
   "metadata": {},
   "source": [
    "### Missing Values"
   ]
  },
  {
   "cell_type": "code",
   "execution_count": 9,
   "id": "280ad15a",
   "metadata": {
    "scrolled": true
   },
   "outputs": [
    {
     "name": "stdout",
     "output_type": "stream",
     "text": [
      "_id                                                             0\n",
      "bonusPointsEarned                                            1401\n",
      "bonusPointsEarnedReason                                      1401\n",
      "createDate                                                      0\n",
      "dateScanned                                                     0\n",
      "finishedDate                                                 1411\n",
      "modifyDate                                                      0\n",
      "pointsAwardedDate                                            1301\n",
      "pointsEarned                                                 1128\n",
      "purchaseDate                                                  458\n",
      "purchasedItemCount                                            484\n",
      "rewardsReceiptStatus                                            0\n",
      "totalSpent                                                    435\n",
      "userId                                                          0\n",
      "rewardsReceiptItemList_barcode                               4291\n",
      "rewardsReceiptItemList_description                            821\n",
      "rewardsReceiptItemList_finalPrice                             614\n",
      "rewardsReceiptItemList_itemPrice                              614\n",
      "rewardsReceiptItemList_needsFetchReview                      6568\n",
      "rewardsReceiptItemList_partnerItemId                          440\n",
      "rewardsReceiptItemList_preventTargetGapPoints                7023\n",
      "rewardsReceiptItemList_quantityPurchased                      614\n",
      "rewardsReceiptItemList_userFlaggedBarcode                    7044\n",
      "rewardsReceiptItemList_userFlaggedNewItem                    7058\n",
      "rewardsReceiptItemList_userFlaggedPrice                      7082\n",
      "rewardsReceiptItemList_userFlaggedQuantity                   7082\n",
      "rewardsReceiptItemList_needsFetchReviewReason                7162\n",
      "rewardsReceiptItemList_pointsNotAwardedReason                7041\n",
      "rewardsReceiptItemList_pointsPayerId                         6114\n",
      "rewardsReceiptItemList_rewardsGroup                          5650\n",
      "rewardsReceiptItemList_rewardsProductPartnerId               5112\n",
      "rewardsReceiptItemList_userFlaggedDescription                7176\n",
      "rewardsReceiptItemList_originalMetaBriteBarcode              7310\n",
      "rewardsReceiptItemList_originalMetaBriteDescription          7371\n",
      "rewardsReceiptItemList_brandCode                             4781\n",
      "rewardsReceiptItemList_competitorRewardsGroup                7106\n",
      "rewardsReceiptItemList_discountedItemPrice                   1612\n",
      "rewardsReceiptItemList_originalReceiptItemText               1621\n",
      "rewardsReceiptItemList_itemNumber                            7228\n",
      "rewardsReceiptItemList_originalMetaBriteQuantityPurchased    7366\n",
      "rewardsReceiptItemList_pointsEarned                          6454\n",
      "rewardsReceiptItemList_targetPrice                           7003\n",
      "rewardsReceiptItemList_competitiveProduct                    6736\n",
      "rewardsReceiptItemList_originalFinalPrice                    7372\n",
      "rewardsReceiptItemList_originalMetaBriteItemPrice            7372\n",
      "rewardsReceiptItemList_deleted                               7372\n",
      "rewardsReceiptItemList_priceAfterCoupon                      6425\n",
      "rewardsReceiptItemList_metabriteCampaignId                   6518\n",
      "dtype: int64\n"
     ]
    }
   ],
   "source": [
    "# Display the number of missing values in each column \n",
    "print(receipts_final.isnull().sum())"
   ]
  },
  {
   "cell_type": "markdown",
   "id": "b89c0940",
   "metadata": {},
   "source": [
    "There are huge amount of missing data and has to be treated and lot of unwated columns to be removed"
   ]
  },
  {
   "cell_type": "markdown",
   "id": "3765964f",
   "metadata": {},
   "source": [
    "### Duplicate Rows"
   ]
  },
  {
   "cell_type": "code",
   "execution_count": 10,
   "id": "23d4311d",
   "metadata": {},
   "outputs": [
    {
     "name": "stdout",
     "output_type": "stream",
     "text": [
      "Number of duplicate rows: 111\n"
     ]
    }
   ],
   "source": [
    "# Check for duplicate rows\n",
    "duplicate_rows = receipts_final.duplicated()\n",
    "print(f\"Number of duplicate rows: {duplicate_rows.sum()}\")"
   ]
  },
  {
   "cell_type": "code",
   "execution_count": 11,
   "id": "782b541a",
   "metadata": {},
   "outputs": [
    {
     "name": "stdout",
     "output_type": "stream",
     "text": [
      "Number of duplicate rows after removal: 0\n"
     ]
    }
   ],
   "source": [
    "# Remove duplicate rows and keep the first occurrence\n",
    "receipts_final = receipts_final.drop_duplicates()\n",
    "\n",
    "# Check the DataFrame again to confirm duplicates are removed\n",
    "print(\"Number of duplicate rows after removal:\", receipts_final.duplicated().sum())\n"
   ]
  },
  {
   "cell_type": "markdown",
   "id": "78ffaebb",
   "metadata": {},
   "source": [
    "There were 111 duplicate rows and can affect data quality by leading to inaccuarate analysis hence it was removed."
   ]
  },
  {
   "cell_type": "markdown",
   "id": "189b929b",
   "metadata": {},
   "source": [
    "### Data Consistency "
   ]
  },
  {
   "cell_type": "code",
   "execution_count": 12,
   "id": "7f16e13c",
   "metadata": {},
   "outputs": [
    {
     "name": "stdout",
     "output_type": "stream",
     "text": [
      "Entries with negative totalSpent: 0\n"
     ]
    }
   ],
   "source": [
    "# Example: Check for any negative values in 'totalSpent'\n",
    "print(\"Entries with negative totalSpent:\", (receipts_final['totalSpent'] < 0).sum())"
   ]
  },
  {
   "cell_type": "markdown",
   "id": "1944e970",
   "metadata": {},
   "source": [
    "To check if data follows specific format like in the above case where total spent should not be a negative value"
   ]
  },
  {
   "cell_type": "markdown",
   "id": "2cfa6a0c",
   "metadata": {},
   "source": [
    "# Users Data"
   ]
  },
  {
   "cell_type": "code",
   "execution_count": 13,
   "id": "3151815b",
   "metadata": {},
   "outputs": [
    {
     "name": "stdout",
     "output_type": "stream",
     "text": [
      "                                      _id  active               createdDate  \\\n",
      "0    {'$oid': '5ff1e194b6a9d73a3a9f1052'}    True  {'$date': 1609687444800}   \n",
      "1    {'$oid': '5ff1e194b6a9d73a3a9f1052'}    True  {'$date': 1609687444800}   \n",
      "2    {'$oid': '5ff1e194b6a9d73a3a9f1052'}    True  {'$date': 1609687444800}   \n",
      "3    {'$oid': '5ff1e1eacfcf6c399c274ae6'}    True  {'$date': 1609687530554}   \n",
      "4    {'$oid': '5ff1e194b6a9d73a3a9f1052'}    True  {'$date': 1609687444800}   \n",
      "..                                    ...     ...                       ...   \n",
      "490  {'$oid': '54943462e4b07e684157a532'}    True  {'$date': 1418998882381}   \n",
      "491  {'$oid': '54943462e4b07e684157a532'}    True  {'$date': 1418998882381}   \n",
      "492  {'$oid': '54943462e4b07e684157a532'}    True  {'$date': 1418998882381}   \n",
      "493  {'$oid': '54943462e4b07e684157a532'}    True  {'$date': 1418998882381}   \n",
      "494  {'$oid': '54943462e4b07e684157a532'}    True  {'$date': 1418998882381}   \n",
      "\n",
      "                    lastLogin         role signUpSource state  \n",
      "0    {'$date': 1609687537858}     consumer        Email    WI  \n",
      "1    {'$date': 1609687537858}     consumer        Email    WI  \n",
      "2    {'$date': 1609687537858}     consumer        Email    WI  \n",
      "3    {'$date': 1609687530597}     consumer        Email    WI  \n",
      "4    {'$date': 1609687537858}     consumer        Email    WI  \n",
      "..                        ...          ...          ...   ...  \n",
      "490  {'$date': 1614963143204}  fetch-staff          NaN   NaN  \n",
      "491  {'$date': 1614963143204}  fetch-staff          NaN   NaN  \n",
      "492  {'$date': 1614963143204}  fetch-staff          NaN   NaN  \n",
      "493  {'$date': 1614963143204}  fetch-staff          NaN   NaN  \n",
      "494  {'$date': 1614963143204}  fetch-staff          NaN   NaN  \n",
      "\n",
      "[495 rows x 7 columns]\n"
     ]
    }
   ],
   "source": [
    "# The actual Json file path is defined\n",
    "file_path = 'C:/Users/ASUS/Downloads/Fetch/users.json'\n",
    "\n",
    "# Load the JSON file into a DataFrame\n",
    "users = pd.read_json(file_path, lines=True)\n",
    "\n",
    "# Display the DataFrame\n",
    "print(users)\n"
   ]
  },
  {
   "cell_type": "code",
   "execution_count": 14,
   "id": "85c22c06",
   "metadata": {},
   "outputs": [
    {
     "data": {
      "text/html": [
       "<div>\n",
       "<style scoped>\n",
       "    .dataframe tbody tr th:only-of-type {\n",
       "        vertical-align: middle;\n",
       "    }\n",
       "\n",
       "    .dataframe tbody tr th {\n",
       "        vertical-align: top;\n",
       "    }\n",
       "\n",
       "    .dataframe thead th {\n",
       "        text-align: right;\n",
       "    }\n",
       "</style>\n",
       "<table border=\"1\" class=\"dataframe\">\n",
       "  <thead>\n",
       "    <tr style=\"text-align: right;\">\n",
       "      <th></th>\n",
       "      <th>_id</th>\n",
       "      <th>active</th>\n",
       "      <th>createdDate</th>\n",
       "      <th>lastLogin</th>\n",
       "      <th>role</th>\n",
       "      <th>signUpSource</th>\n",
       "      <th>state</th>\n",
       "    </tr>\n",
       "  </thead>\n",
       "  <tbody>\n",
       "    <tr>\n",
       "      <th>0</th>\n",
       "      <td>5ff1e194b6a9d73a3a9f1052</td>\n",
       "      <td>True</td>\n",
       "      <td>2021-01-03 15:24:04.800</td>\n",
       "      <td>2021-01-03 15:25:37.858</td>\n",
       "      <td>consumer</td>\n",
       "      <td>Email</td>\n",
       "      <td>WI</td>\n",
       "    </tr>\n",
       "    <tr>\n",
       "      <th>1</th>\n",
       "      <td>5ff1e194b6a9d73a3a9f1052</td>\n",
       "      <td>True</td>\n",
       "      <td>2021-01-03 15:24:04.800</td>\n",
       "      <td>2021-01-03 15:25:37.858</td>\n",
       "      <td>consumer</td>\n",
       "      <td>Email</td>\n",
       "      <td>WI</td>\n",
       "    </tr>\n",
       "    <tr>\n",
       "      <th>2</th>\n",
       "      <td>5ff1e194b6a9d73a3a9f1052</td>\n",
       "      <td>True</td>\n",
       "      <td>2021-01-03 15:24:04.800</td>\n",
       "      <td>2021-01-03 15:25:37.858</td>\n",
       "      <td>consumer</td>\n",
       "      <td>Email</td>\n",
       "      <td>WI</td>\n",
       "    </tr>\n",
       "    <tr>\n",
       "      <th>3</th>\n",
       "      <td>5ff1e1eacfcf6c399c274ae6</td>\n",
       "      <td>True</td>\n",
       "      <td>2021-01-03 15:25:30.554</td>\n",
       "      <td>2021-01-03 15:25:30.597</td>\n",
       "      <td>consumer</td>\n",
       "      <td>Email</td>\n",
       "      <td>WI</td>\n",
       "    </tr>\n",
       "    <tr>\n",
       "      <th>4</th>\n",
       "      <td>5ff1e194b6a9d73a3a9f1052</td>\n",
       "      <td>True</td>\n",
       "      <td>2021-01-03 15:24:04.800</td>\n",
       "      <td>2021-01-03 15:25:37.858</td>\n",
       "      <td>consumer</td>\n",
       "      <td>Email</td>\n",
       "      <td>WI</td>\n",
       "    </tr>\n",
       "  </tbody>\n",
       "</table>\n",
       "</div>"
      ],
      "text/plain": [
       "                        _id  active             createdDate  \\\n",
       "0  5ff1e194b6a9d73a3a9f1052    True 2021-01-03 15:24:04.800   \n",
       "1  5ff1e194b6a9d73a3a9f1052    True 2021-01-03 15:24:04.800   \n",
       "2  5ff1e194b6a9d73a3a9f1052    True 2021-01-03 15:24:04.800   \n",
       "3  5ff1e1eacfcf6c399c274ae6    True 2021-01-03 15:25:30.554   \n",
       "4  5ff1e194b6a9d73a3a9f1052    True 2021-01-03 15:24:04.800   \n",
       "\n",
       "                lastLogin      role signUpSource state  \n",
       "0 2021-01-03 15:25:37.858  consumer        Email    WI  \n",
       "1 2021-01-03 15:25:37.858  consumer        Email    WI  \n",
       "2 2021-01-03 15:25:37.858  consumer        Email    WI  \n",
       "3 2021-01-03 15:25:30.597  consumer        Email    WI  \n",
       "4 2021-01-03 15:25:37.858  consumer        Email    WI  "
      ]
     },
     "execution_count": 14,
     "metadata": {},
     "output_type": "execute_result"
    }
   ],
   "source": [
    "# Flatten the '_id' field\n",
    "users['_id'] = users['_id'].apply(lambda x: x['$oid'] if isinstance(x, dict) and '$oid' in x else x)\n",
    "\n",
    "# Convert all date fields directly using a lambda function\n",
    "date_fields = ['createdDate', 'lastLogin']\n",
    "for field in date_fields:\n",
    "    users[field] = users[field].apply(lambda x: pd.to_datetime(x['$date'], unit='ms') if isinstance(x, dict) and '$date' in x else x)\n",
    "\n",
    "# Display the modified DataFrame to check results\n",
    "users.head(5)"
   ]
  },
  {
   "cell_type": "markdown",
   "id": "157a7d74",
   "metadata": {},
   "source": [
    "### Missing Values "
   ]
  },
  {
   "cell_type": "code",
   "execution_count": 15,
   "id": "0b539d05",
   "metadata": {},
   "outputs": [
    {
     "name": "stdout",
     "output_type": "stream",
     "text": [
      "_id              0\n",
      "active           0\n",
      "createdDate      0\n",
      "lastLogin       62\n",
      "role             0\n",
      "signUpSource    48\n",
      "state           56\n",
      "dtype: int64\n"
     ]
    }
   ],
   "source": [
    "# Display the number of missing values in each column \n",
    "print(users.isnull().sum())"
   ]
  },
  {
   "cell_type": "markdown",
   "id": "34d518be",
   "metadata": {},
   "source": [
    "There are few missing values to be treated i.e. Last login could be null because no one really logged in so it can be null or can be replaced with last login. signupsource and state can be replaced with mode or unknown"
   ]
  },
  {
   "cell_type": "markdown",
   "id": "288be7ff",
   "metadata": {},
   "source": [
    "### Duplicate Rows"
   ]
  },
  {
   "cell_type": "code",
   "execution_count": 16,
   "id": "c5f140a7",
   "metadata": {},
   "outputs": [
    {
     "name": "stdout",
     "output_type": "stream",
     "text": [
      "Number of duplicate rows: 283\n"
     ]
    }
   ],
   "source": [
    "# Check for duplicate rows\n",
    "duplicate_rows = users.duplicated()\n",
    "print(f\"Number of duplicate rows: {duplicate_rows.sum()}\")"
   ]
  },
  {
   "cell_type": "code",
   "execution_count": 17,
   "id": "17fbdb10",
   "metadata": {},
   "outputs": [
    {
     "name": "stdout",
     "output_type": "stream",
     "text": [
      "Number of duplicate rows after removal: 0\n"
     ]
    }
   ],
   "source": [
    "# Remove duplicate rows and keep the first occurrence\n",
    "users = users.drop_duplicates()\n",
    "\n",
    "# Check the DataFrame again to confirm duplicates are removed\n",
    "print(\"Number of duplicate rows after removal:\", users.duplicated().sum())"
   ]
  },
  {
   "cell_type": "markdown",
   "id": "263196ea",
   "metadata": {},
   "source": [
    "# Q2 : Write queries that directly answer predetermined questions from a business stakeholder "
   ]
  },
  {
   "cell_type": "code",
   "execution_count": 18,
   "id": "fee7749a",
   "metadata": {},
   "outputs": [],
   "source": [
    "from pandasql import sqldf\n",
    "\n",
    "# Function to allow running SQL query directly on pandas DataFrame\n",
    "pysqldf = lambda q: sqldf(q, globals())"
   ]
  },
  {
   "cell_type": "markdown",
   "id": "6eb55589",
   "metadata": {},
   "source": [
    "sqldf function is used to run sql queries in python and I have used My SQL"
   ]
  },
  {
   "cell_type": "markdown",
   "id": "a664eaef",
   "metadata": {},
   "source": [
    "### 1. When considering average spend from receipts with 'rewardsReceiptStatus’ of ‘Accepted’ or ‘Rejected’, which is greater?"
   ]
  },
  {
   "cell_type": "code",
   "execution_count": 19,
   "id": "7880b788",
   "metadata": {},
   "outputs": [
    {
     "data": {
      "text/plain": [
       "array(['FINISHED', 'REJECTED', 'FLAGGED', 'SUBMITTED', 'PENDING'],\n",
       "      dtype=object)"
      ]
     },
     "execution_count": 19,
     "metadata": {},
     "output_type": "execute_result"
    }
   ],
   "source": [
    "receipts_final['rewardsReceiptStatus'].unique()"
   ]
  },
  {
   "cell_type": "code",
   "execution_count": 20,
   "id": "2067e2df",
   "metadata": {},
   "outputs": [
    {
     "data": {
      "text/html": [
       "<div>\n",
       "<style scoped>\n",
       "    .dataframe tbody tr th:only-of-type {\n",
       "        vertical-align: middle;\n",
       "    }\n",
       "\n",
       "    .dataframe tbody tr th {\n",
       "        vertical-align: top;\n",
       "    }\n",
       "\n",
       "    .dataframe thead th {\n",
       "        text-align: right;\n",
       "    }\n",
       "</style>\n",
       "<table border=\"1\" class=\"dataframe\">\n",
       "  <thead>\n",
       "    <tr style=\"text-align: right;\">\n",
       "      <th></th>\n",
       "      <th>Result</th>\n",
       "    </tr>\n",
       "  </thead>\n",
       "  <tbody>\n",
       "    <tr>\n",
       "      <th>0</th>\n",
       "      <td>Rejected has a greater average spend</td>\n",
       "    </tr>\n",
       "  </tbody>\n",
       "</table>\n",
       "</div>"
      ],
      "text/plain": [
       "                                 Result\n",
       "0  Rejected has a greater average spend"
      ]
     },
     "execution_count": 20,
     "metadata": {},
     "output_type": "execute_result"
    }
   ],
   "source": [
    "query = \"\"\"\n",
    "WITH AverageSpends AS (\n",
    "    SELECT \n",
    "        rewardsReceiptStatus,\n",
    "        AVG(totalSpent) AS average_spend\n",
    "    FROM \n",
    "        receipts_final\n",
    "    WHERE \n",
    "        rewardsReceiptStatus IN ('Accepted', 'Rejected')\n",
    "    GROUP BY \n",
    "        rewardsReceiptStatus\n",
    ")\n",
    "\n",
    "SELECT\n",
    "    CASE \n",
    "        WHEN MAX(average_spend) FILTER (WHERE rewardsReceiptStatus = 'Accepted') >\n",
    "             MAX(average_spend) FILTER (WHERE rewardsReceiptStatus = 'Rejected')\n",
    "        THEN 'Accepted has a greater average spend'\n",
    "        ELSE 'Rejected has a greater average spend'\n",
    "    END AS Result\n",
    "FROM \n",
    "    AverageSpends;\n",
    "\"\"\"\n",
    "\n",
    "result = pysqldf(query)\n",
    "result"
   ]
  },
  {
   "cell_type": "markdown",
   "id": "464e9d4f",
   "metadata": {},
   "source": [
    "I first checked the unique receipt status to see if both the status i.e. accepted and rejected exists, since we don't have accepted status, we can conclude without querying that rejected has greater average spend for reciepts. I have also show the SQL approach in this case."
   ]
  },
  {
   "cell_type": "markdown",
   "id": "45c1085d",
   "metadata": {},
   "source": [
    "### 2. When considering total number of items purchased from receipts with 'rewardsReceiptStatus’ of ‘Accepted’ or ‘Rejected’, which is greater?"
   ]
  },
  {
   "cell_type": "code",
   "execution_count": 21,
   "id": "1224175d",
   "metadata": {},
   "outputs": [
    {
     "data": {
      "text/html": [
       "<div>\n",
       "<style scoped>\n",
       "    .dataframe tbody tr th:only-of-type {\n",
       "        vertical-align: middle;\n",
       "    }\n",
       "\n",
       "    .dataframe tbody tr th {\n",
       "        vertical-align: top;\n",
       "    }\n",
       "\n",
       "    .dataframe thead th {\n",
       "        text-align: right;\n",
       "    }\n",
       "</style>\n",
       "<table border=\"1\" class=\"dataframe\">\n",
       "  <thead>\n",
       "    <tr style=\"text-align: right;\">\n",
       "      <th></th>\n",
       "      <th>Result</th>\n",
       "    </tr>\n",
       "  </thead>\n",
       "  <tbody>\n",
       "    <tr>\n",
       "      <th>0</th>\n",
       "      <td>Rejected has a greater items purchased in total</td>\n",
       "    </tr>\n",
       "  </tbody>\n",
       "</table>\n",
       "</div>"
      ],
      "text/plain": [
       "                                            Result\n",
       "0  Rejected has a greater items purchased in total"
      ]
     },
     "execution_count": 21,
     "metadata": {},
     "output_type": "execute_result"
    }
   ],
   "source": [
    "query = \"\"\"\n",
    "WITH Totalitemspurchased AS (SELECT \n",
    "    rewardsReceiptStatus,\n",
    "    SUM(purchasedItemCount) AS total_items_purchased\n",
    "FROM \n",
    "    receipts_final\n",
    "WHERE \n",
    "    rewardsReceiptStatus IN ('Accepted', 'Rejected')\n",
    "GROUP BY \n",
    "    rewardsReceiptStatus)\n",
    "    \n",
    "SELECT\n",
    "    CASE \n",
    "        WHEN MAX(total_items_purchased) FILTER (WHERE rewardsReceiptStatus = 'Accepted') >\n",
    "             MAX(total_items_purchased) FILTER (WHERE rewardsReceiptStatus = 'Rejected')\n",
    "        THEN 'Accepted has a greater items purchased in total'\n",
    "        ELSE 'Rejected has a greater items purchased in total'\n",
    "    END AS Result\n",
    "FROM \n",
    "    Totalitemspurchased;\n",
    "\"\"\"\n",
    "\n",
    "# Execute the query\n",
    "result = pysqldf(query)\n",
    "result"
   ]
  },
  {
   "cell_type": "markdown",
   "id": "a4c97c3a",
   "metadata": {},
   "source": [
    "In this case also Rejected status has greater item purchased in total due to the absence of accepted status in the source"
   ]
  },
  {
   "cell_type": "markdown",
   "id": "ffb8e350",
   "metadata": {},
   "source": [
    "### Q3 : Which brand has the most spend among users who were created within the past 6 months?"
   ]
  },
  {
   "cell_type": "code",
   "execution_count": 22,
   "id": "bce27501",
   "metadata": {},
   "outputs": [
    {
     "name": "stdout",
     "output_type": "stream",
     "text": [
      "The unique dates in 'createdDate' is: [2021 2020 2015 2017 2014]\n",
      "The maximum date in 'createdDate' is: 2021-02-12 14:11:06.240000\n"
     ]
    }
   ],
   "source": [
    "#Extract unique dates(years) to identify if 2024 exists\n",
    "unique_dates = users['createdDate'].dt.year.unique()\n",
    "print(\"The unique dates in 'createdDate' is:\", unique_dates)\n",
    "\n",
    "#Identify the max or the latest date in the database\n",
    "max_date = users['createdDate'].max()\n",
    "print(\"The maximum date in 'createdDate' is:\", max_date)"
   ]
  },
  {
   "cell_type": "code",
   "execution_count": 23,
   "id": "b1ec2160",
   "metadata": {},
   "outputs": [
    {
     "data": {
      "text/html": [
       "<div>\n",
       "<style scoped>\n",
       "    .dataframe tbody tr th:only-of-type {\n",
       "        vertical-align: middle;\n",
       "    }\n",
       "\n",
       "    .dataframe tbody tr th {\n",
       "        vertical-align: top;\n",
       "    }\n",
       "\n",
       "    .dataframe thead th {\n",
       "        text-align: right;\n",
       "    }\n",
       "</style>\n",
       "<table border=\"1\" class=\"dataframe\">\n",
       "  <thead>\n",
       "    <tr style=\"text-align: right;\">\n",
       "      <th></th>\n",
       "      <th>rewardsReceiptItemList_brandCode</th>\n",
       "      <th>summedTotalSpent</th>\n",
       "    </tr>\n",
       "  </thead>\n",
       "  <tbody>\n",
       "    <tr>\n",
       "      <th>0</th>\n",
       "      <td>BEN AND JERRYS</td>\n",
       "      <td>198695.24</td>\n",
       "    </tr>\n",
       "  </tbody>\n",
       "</table>\n",
       "</div>"
      ],
      "text/plain": [
       "  rewardsReceiptItemList_brandCode  summedTotalSpent\n",
       "0                   BEN AND JERRYS         198695.24"
      ]
     },
     "execution_count": 23,
     "metadata": {},
     "output_type": "execute_result"
    }
   ],
   "source": [
    "query = \"\"\"\n",
    "WITH RecentUsers AS (\n",
    "    SELECT _id \n",
    "    FROM users \n",
    "    WHERE createdDate > date('2021-02-12', '-6 months')\n",
    "),\n",
    "TotalSpends AS (\n",
    "    SELECT \n",
    "        r.rewardsReceiptItemList_brandCode,\n",
    "        SUM(r.totalSpent) AS summedTotalSpent \n",
    "    FROM \n",
    "        receipts_final r \n",
    "    WHERE \n",
    "        r.userId IN (SELECT _id FROM RecentUsers)\n",
    "        AND r.rewardsReceiptItemList_brandCode IS NOT NULL\n",
    "    GROUP BY \n",
    "        r.rewardsReceiptItemList_brandCode\n",
    ")\n",
    "SELECT \n",
    "    rewardsReceiptItemList_brandCode,\n",
    "    summedTotalSpent \n",
    "FROM \n",
    "    TotalSpends\n",
    "ORDER BY \n",
    "    summedTotalSpent DESC \n",
    "LIMIT 1;\n",
    "\n",
    "\"\"\"\n",
    "\n",
    "# Execute the query\n",
    "result = pysqldf(query)\n",
    "result"
   ]
  },
  {
   "cell_type": "markdown",
   "id": "547b8698",
   "metadata": {},
   "source": [
    "I currently don't have data for 2023 or 2024 to evaluate the brand that has spent the most among users in last 6 months. Hence, I identified the latest transaction date in dataset and analyzed brand expenditures for the six months preceding this date. The analysis revealed that 'Ben & Jerry's' was the top spending brand during this period."
   ]
  },
  {
   "cell_type": "markdown",
   "id": "673f4dbb",
   "metadata": {},
   "source": [
    "# Q3. Evaluate Data Quality Issues in the Data Provided"
   ]
  },
  {
   "cell_type": "markdown",
   "id": "610c449c",
   "metadata": {},
   "source": [
    "I have performed all data quality checks above after reading the data and converting it to dataframe. Some of the data quality check are identifying missing values, Duplicates, data inconsistencies and have also given the solution on how to address these issues and some of them are addressed like duplicate rows removal."
   ]
  },
  {
   "cell_type": "markdown",
   "id": "8b03a81b",
   "metadata": {},
   "source": [
    "The main issue that I observed was no relation between receipt items list with either reciepts or brands. There's no unique id or brand codes to join or match with."
   ]
  },
  {
   "cell_type": "code",
   "execution_count": 24,
   "id": "73c248d3",
   "metadata": {},
   "outputs": [
    {
     "name": "stdout",
     "output_type": "stream",
     "text": [
      "The uniques brand code in 'receipts is: 228\n",
      "The unique brand code in brands is: 898\n"
     ]
    }
   ],
   "source": [
    "#Count Unique Brand Codes\n",
    "unique_receipts_brand_codes = len(set(receipts_final['rewardsReceiptItemList_brandCode']))\n",
    "print(\"The uniques brand code in 'receipts is:\", unique_receipts_brand_codes)\n",
    "\n",
    "unique_brands_brand_codes = len(set(brands_final['brandCode']))\n",
    "print(\"The unique brand code in brands is:\", unique_brands_brand_codes)\n"
   ]
  },
  {
   "cell_type": "code",
   "execution_count": 25,
   "id": "39d06dbe",
   "metadata": {},
   "outputs": [],
   "source": [
    "# Using left join to find unmatched entries\n",
    "merged_data = pd.merge(receipts_final, brands_final, how='left', left_on='rewardsReceiptItemList_brandCode', right_on='brandCode', indicator=True)"
   ]
  },
  {
   "cell_type": "code",
   "execution_count": 26,
   "id": "2825fb22",
   "metadata": {},
   "outputs": [
    {
     "name": "stdout",
     "output_type": "stream",
     "text": [
      "Brand codes in receipts with no match in brands table: ['MISSION' 'BRAND' 'KRAFT EASY CHEESE' 'WINGSTOP' 'GERM-X'\n",
      " 'BEN AND JERRYS' 'BORDEN' 'KLARBRUNN' 'HY-VEE' 'LIGHT & FIT GREEK'\n",
      " \"CONNIE'S PIZZA\" \"VAN DE KAMP'S\" 'HATCH FARMS' \"KELLOGG'S\" 'TEMPTATIONS'\n",
      " \"NATURE'S PATH ORGANIC\" 'DOLE' 'EL MONTEREY' 'BIGELOW' 'HY-VEE SELECT'\n",
      " 'KIKKOMAN' 'SPECIAL K' 'HILLSHIRE FARM' 'JUST BARE' \"LAURA'S LEAN BEEF\"\n",
      " 'CAL-ORGANIC FARMS' \"BUSH'S BEST\" 'FOLGERS' 'KASHI' 'LIPTON'\n",
      " 'GREEN GIANT' 'HARVEST SNAPS' \"THAT'S SMART!\" 'ADVIL'\n",
      " 'CHICKEN OF THE SEA' 'STARKIST' 'TIC TAC' 'SO DELICIOUS' 'WONDERFUL'\n",
      " 'LIGHT & FIT' 'HANOVER' 'HIDDEN VALLEY' 'DANNON' 'FAGE' 'ORAL-B GLIDE'\n",
      " \"CAMPBELL'S\" \"FRENCH'S\" 'CRISPIX' 'KING ARTHUR FLOUR' 'KITCHEN BASICS'\n",
      " 'MCCORMICK' 'OLD EL PASO' 'ZESTA' 'AZTECA' 'BUNNY'\n",
      " 'HONEY BUNCHES OF OATS' 'SIMPLE TRUTH ORGANIC' 'BOTA BOX' 'DARE' 'LINDT'\n",
      " 'ORGANIC ROOT STIMULATOR' \"MERKT'S\" 'MORTON' 'FRONTERA' 'KARO' 'CHEESE'\n",
      " \"FLORIDA'S NATURAL\" 'BLUE DIAMOND' 'LUNDBERG FAMILY FARMS' 'NUTRI-GRAIN'\n",
      " 'DIGIORNO' 'KEMPS' 'THAI KITCHEN' \"THOMAS'\" 'POWER CRUNCH' 'GERBER'\n",
      " 'ORGANICVILLE' 'PURINA ONE' 'DR PEPPER' 'C&H' 'CHEERIOS' 'SIMPLE TRUTH'\n",
      " \"STOUFFER'S\" 'PRINGLES' 'MCCORMICK GRILL MATES' 'THOMAS ENGLISH MUFFINS'\n",
      " \"MARTINELLI'S\" \"MARIE CALLENDER'S\" \"HEMPLER'S\" 'JIMMY DEAN' 'SIGNATURE'\n",
      " 'FRESH EXPRESS' 'NABISCO' 'RITZ TOASTED CHIPS' 'RAGU' 'KRUSTEAZ'\n",
      " 'PILLSBURY' 'TILLAMOOK' 'TYSON' 'BEAR CREEK COUNTRY KITCHENS' 'BIC'\n",
      " 'GENERAL MILLS' \"JACK LINK'S\" 'PROGRESSO' 'RENUZIT' \"BRASWELL'S\"\n",
      " 'JOHNSONVILLE' 'OREO' 'THOMAS' 'FRANZ' 'BETTY CROCKER' 'CHEX'\n",
      " 'CINNAMON TOAST CRUNCH' 'TROLLI' 'ORBIT' 'WISHBONE' \"WELCH'S\" 'PEARLS'\n",
      " 'NUTELLA' 'KRAZY GLUE' 'VITAL FARMS ALFRESCO EGGS' 'OVALTINE'\n",
      " 'LA BANDERITA' 'GRIMMWAY FARMS' 'EGGO' 'SABRA' \"MRS. RENFRO'S\" \"REESE'S\"\n",
      " 'KIT KAT' 'FORTUNE YAKISOBA' 'POMPEIAN' 'SIMPLY POTATOES' 'CHIQUITA'\n",
      " 'CHEEZ-IT' 'FRESH STEP' 'SIGNATURE KITCHEN' 'ENERGIZER MAX'\n",
      " \"HERSHEY'S KISSES\" 'KERR' 'PRIVATE SELECTION' 'SKITTLES' 'KROGER'\n",
      " 'JOHN SOULES FOODS' 'COLEMAN NATURAL' 'SPARKLING ICE'\n",
      " \"STOUFFER'S CLASSICS\" \"BOAR'S HEAD\" \"JACK DANIEL'S READY TO EAT\"\n",
      " 'ESSENTIAL EVERYDAY' \"EGGLAND'S BEST\" \"MRS. CUBBISON'S\"\n",
      " 'GALLO FAMILY VINEYARDS' 'LITEHOUSE' 'CADBURY' 'TOP FLIGHT' 'LINDSAY'\n",
      " 'HEWLETT PACKARD' 'PLAYTEX' 'CREST 3D WHITE' 'HORMEL' 'SMITHFIELD'\n",
      " 'JENNIE-O' 'COKE' 'DIET COKE' 'R.W. KNUDSEN' '7UP' 'HAWAIIAN'\n",
      " 'TAYLOR FARMS' 'RITZ' 'ARROWHEAD' 'EDWARDS' 'TOLL HOUSE' 'NESTLE'\n",
      " \"SCHWEBEL'S\" \"MARIE'S\" 'JELLY BELLY' 'KERRYGOLD' 'CARAMELLO'\n",
      " 'CALIFIA FARMS' \"FAMOUS DAVE'S\" 'BANZA' 'AMERICAN BEAUTY' 'DELI'\n",
      " 'HERITAGE FARM' 'ROSARITA' 'SHOPRITE']\n"
     ]
    }
   ],
   "source": [
    "# Identify Missing Brand Codes\n",
    "missing_brand_codes = merged_data[merged_data['_merge'] == 'left_only']['rewardsReceiptItemList_brandCode'].unique()\n",
    "print(\"Brand codes in receipts with no match in brands table:\", missing_brand_codes)"
   ]
  },
  {
   "cell_type": "markdown",
   "id": "ac0db955",
   "metadata": {},
   "source": [
    "The analysis confirms that there are brand codes used in receipts that do not have a corresponding entry in the brands table. This discrepancy can lead to issues when linking these two datasets for comprehensive analysis, potentially impacting business insights and operational decisions when there are no foreign keys. I ahve shown in the data model on what attributes are required in receipts table to link with other tables."
   ]
  }
 ],
 "metadata": {
  "kernelspec": {
   "display_name": "Python 3 (ipykernel)",
   "language": "python",
   "name": "python3"
  },
  "language_info": {
   "codemirror_mode": {
    "name": "ipython",
    "version": 3
   },
   "file_extension": ".py",
   "mimetype": "text/x-python",
   "name": "python",
   "nbconvert_exporter": "python",
   "pygments_lexer": "ipython3",
   "version": "3.9.7"
  }
 },
 "nbformat": 4,
 "nbformat_minor": 5
}
